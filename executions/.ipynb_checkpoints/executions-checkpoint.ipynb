{
 "cells": [
  {
   "cell_type": "code",
   "execution_count": 1,
   "metadata": {},
   "outputs": [],
   "source": [
    "import pandas as pd\n",
    "import matplotlib.pyplot as plt\n",
    "import seaborn as sns\n",
    "%matplotlib inline"
   ]
  },
  {
   "cell_type": "code",
   "execution_count": 8,
   "metadata": {},
   "outputs": [
    {
     "data": {
      "text/html": [
       "<div>\n",
       "<style scoped>\n",
       "    .dataframe tbody tr th:only-of-type {\n",
       "        vertical-align: middle;\n",
       "    }\n",
       "\n",
       "    .dataframe tbody tr th {\n",
       "        vertical-align: top;\n",
       "    }\n",
       "\n",
       "    .dataframe thead th {\n",
       "        text-align: right;\n",
       "    }\n",
       "</style>\n",
       "<table border=\"1\" class=\"dataframe\">\n",
       "  <thead>\n",
       "    <tr style=\"text-align: right;\">\n",
       "      <th></th>\n",
       "      <th>Execution#</th>\n",
       "      <th>Execution Date</th>\n",
       "      <th>First Name</th>\n",
       "      <th>Last Name</th>\n",
       "      <th>Middle Name(s)</th>\n",
       "      <th>Suffix</th>\n",
       "      <th>Race</th>\n",
       "      <th>Sex</th>\n",
       "      <th>Region</th>\n",
       "      <th>State</th>\n",
       "      <th>...</th>\n",
       "      <th>Number of Latino Male Victims</th>\n",
       "      <th>Number of Asian Male Victims</th>\n",
       "      <th>Number of Native American Male Victims</th>\n",
       "      <th>Number of Other Race Male Victims</th>\n",
       "      <th>Number of White Female Victims</th>\n",
       "      <th>Number of Black Female Victims</th>\n",
       "      <th>Number of Latino Female Victims</th>\n",
       "      <th>Number of Asian Female Victims</th>\n",
       "      <th>Number of Native American Female Victims</th>\n",
       "      <th>Number of Other Race Female Victims</th>\n",
       "    </tr>\n",
       "  </thead>\n",
       "  <tbody>\n",
       "    <tr>\n",
       "      <th>0</th>\n",
       "      <td>1</td>\n",
       "      <td>01/17/1977</td>\n",
       "      <td>Gary</td>\n",
       "      <td>Gilmore</td>\n",
       "      <td>Mark</td>\n",
       "      <td>NaN</td>\n",
       "      <td>White</td>\n",
       "      <td>Male</td>\n",
       "      <td>West</td>\n",
       "      <td>Utah</td>\n",
       "      <td>...</td>\n",
       "      <td>0</td>\n",
       "      <td>0</td>\n",
       "      <td>0</td>\n",
       "      <td>0</td>\n",
       "      <td>0</td>\n",
       "      <td>0</td>\n",
       "      <td>0</td>\n",
       "      <td>0</td>\n",
       "      <td>0</td>\n",
       "      <td>0</td>\n",
       "    </tr>\n",
       "    <tr>\n",
       "      <th>1</th>\n",
       "      <td>2</td>\n",
       "      <td>05/25/1979</td>\n",
       "      <td>John</td>\n",
       "      <td>Spenkelink</td>\n",
       "      <td>NaN</td>\n",
       "      <td>NaN</td>\n",
       "      <td>White</td>\n",
       "      <td>Male</td>\n",
       "      <td>South</td>\n",
       "      <td>Florida</td>\n",
       "      <td>...</td>\n",
       "      <td>0</td>\n",
       "      <td>0</td>\n",
       "      <td>0</td>\n",
       "      <td>0</td>\n",
       "      <td>0</td>\n",
       "      <td>0</td>\n",
       "      <td>0</td>\n",
       "      <td>0</td>\n",
       "      <td>0</td>\n",
       "      <td>0</td>\n",
       "    </tr>\n",
       "    <tr>\n",
       "      <th>2</th>\n",
       "      <td>3</td>\n",
       "      <td>10/22/1979</td>\n",
       "      <td>Jesse</td>\n",
       "      <td>Bishop</td>\n",
       "      <td>NaN</td>\n",
       "      <td>NaN</td>\n",
       "      <td>White</td>\n",
       "      <td>Male</td>\n",
       "      <td>West</td>\n",
       "      <td>Nevada</td>\n",
       "      <td>...</td>\n",
       "      <td>0</td>\n",
       "      <td>0</td>\n",
       "      <td>0</td>\n",
       "      <td>0</td>\n",
       "      <td>0</td>\n",
       "      <td>0</td>\n",
       "      <td>0</td>\n",
       "      <td>0</td>\n",
       "      <td>0</td>\n",
       "      <td>0</td>\n",
       "    </tr>\n",
       "    <tr>\n",
       "      <th>3</th>\n",
       "      <td>4</td>\n",
       "      <td>03/09/1981</td>\n",
       "      <td>Steven</td>\n",
       "      <td>Judy</td>\n",
       "      <td>NaN</td>\n",
       "      <td>NaN</td>\n",
       "      <td>White</td>\n",
       "      <td>Male</td>\n",
       "      <td>Midwest</td>\n",
       "      <td>Indiana</td>\n",
       "      <td>...</td>\n",
       "      <td>0</td>\n",
       "      <td>0</td>\n",
       "      <td>0</td>\n",
       "      <td>0</td>\n",
       "      <td>2</td>\n",
       "      <td>0</td>\n",
       "      <td>0</td>\n",
       "      <td>0</td>\n",
       "      <td>0</td>\n",
       "      <td>0</td>\n",
       "    </tr>\n",
       "    <tr>\n",
       "      <th>4</th>\n",
       "      <td>5</td>\n",
       "      <td>08/10/1982</td>\n",
       "      <td>Frank</td>\n",
       "      <td>Coppola</td>\n",
       "      <td>NaN</td>\n",
       "      <td>NaN</td>\n",
       "      <td>White</td>\n",
       "      <td>Male</td>\n",
       "      <td>South</td>\n",
       "      <td>Virginia</td>\n",
       "      <td>...</td>\n",
       "      <td>0</td>\n",
       "      <td>0</td>\n",
       "      <td>0</td>\n",
       "      <td>0</td>\n",
       "      <td>0</td>\n",
       "      <td>0</td>\n",
       "      <td>0</td>\n",
       "      <td>0</td>\n",
       "      <td>0</td>\n",
       "      <td>0</td>\n",
       "    </tr>\n",
       "  </tbody>\n",
       "</table>\n",
       "<p>5 rows × 27 columns</p>\n",
       "</div>"
      ],
      "text/plain": [
       "   Execution# Execution Date First Name   Last Name Middle Name(s)  Suffix  \\\n",
       "0           1     01/17/1977       Gary     Gilmore           Mark     NaN   \n",
       "1           2     05/25/1979       John  Spenkelink            NaN     NaN   \n",
       "2           3     10/22/1979      Jesse      Bishop            NaN     NaN   \n",
       "3           4     03/09/1981     Steven        Judy            NaN     NaN   \n",
       "4           5     08/10/1982      Frank     Coppola            NaN     NaN   \n",
       "\n",
       "    Race   Sex   Region     State  ... Number of Latino Male Victims  \\\n",
       "0  White  Male     West      Utah  ...                             0   \n",
       "1  White  Male    South   Florida  ...                             0   \n",
       "2  White  Male     West    Nevada  ...                             0   \n",
       "3  White  Male  Midwest   Indiana  ...                             0   \n",
       "4  White  Male    South  Virginia  ...                             0   \n",
       "\n",
       "  Number of Asian Male Victims Number of Native American Male Victims  \\\n",
       "0                            0                                      0   \n",
       "1                            0                                      0   \n",
       "2                            0                                      0   \n",
       "3                            0                                      0   \n",
       "4                            0                                      0   \n",
       "\n",
       "  Number of Other Race Male Victims  Number of White Female Victims  \\\n",
       "0                                 0                               0   \n",
       "1                                 0                               0   \n",
       "2                                 0                               0   \n",
       "3                                 0                               2   \n",
       "4                                 0                               0   \n",
       "\n",
       "   Number of Black Female Victims  Number of Latino Female Victims  \\\n",
       "0                               0                                0   \n",
       "1                               0                                0   \n",
       "2                               0                                0   \n",
       "3                               0                                0   \n",
       "4                               0                                0   \n",
       "\n",
       "   Number of Asian Female Victims  Number of Native American Female Victims  \\\n",
       "0                               0                                         0   \n",
       "1                               0                                         0   \n",
       "2                               0                                         0   \n",
       "3                               0                                         0   \n",
       "4                               0                                         0   \n",
       "\n",
       "   Number of Other Race Female Victims  \n",
       "0                                    0  \n",
       "1                                    0  \n",
       "2                                    0  \n",
       "3                                    0  \n",
       "4                                    0  \n",
       "\n",
       "[5 rows x 27 columns]"
      ]
     },
     "execution_count": 8,
     "metadata": {},
     "output_type": "execute_result"
    }
   ],
   "source": [
    "df = pd.read_csv('DPIC Execution Database - U.S. Executions.csv')\n",
    "df.head()"
   ]
  },
  {
   "cell_type": "code",
   "execution_count": 9,
   "metadata": {},
   "outputs": [],
   "source": [
    "df = df.drop(df.columns[[15, 16, 17, 18, 19, 20, 21, 22, 23, 24, 25, 26]], axis=1)"
   ]
  },
  {
   "cell_type": "code",
   "execution_count": 10,
   "metadata": {},
   "outputs": [
    {
     "data": {
      "text/html": [
       "<div>\n",
       "<style scoped>\n",
       "    .dataframe tbody tr th:only-of-type {\n",
       "        vertical-align: middle;\n",
       "    }\n",
       "\n",
       "    .dataframe tbody tr th {\n",
       "        vertical-align: top;\n",
       "    }\n",
       "\n",
       "    .dataframe thead th {\n",
       "        text-align: right;\n",
       "    }\n",
       "</style>\n",
       "<table border=\"1\" class=\"dataframe\">\n",
       "  <thead>\n",
       "    <tr style=\"text-align: right;\">\n",
       "      <th></th>\n",
       "      <th>Execution#</th>\n",
       "      <th>Execution Date</th>\n",
       "      <th>First Name</th>\n",
       "      <th>Last Name</th>\n",
       "      <th>Middle Name(s)</th>\n",
       "      <th>Suffix</th>\n",
       "      <th>Race</th>\n",
       "      <th>Sex</th>\n",
       "      <th>Region</th>\n",
       "      <th>State</th>\n",
       "      <th>County</th>\n",
       "      <th>Foreign National</th>\n",
       "      <th>Execution Method</th>\n",
       "      <th>Execution Volunteer</th>\n",
       "      <th>Number of Victims</th>\n",
       "    </tr>\n",
       "  </thead>\n",
       "  <tbody>\n",
       "    <tr>\n",
       "      <th>0</th>\n",
       "      <td>1</td>\n",
       "      <td>01/17/1977</td>\n",
       "      <td>Gary</td>\n",
       "      <td>Gilmore</td>\n",
       "      <td>Mark</td>\n",
       "      <td>NaN</td>\n",
       "      <td>White</td>\n",
       "      <td>Male</td>\n",
       "      <td>West</td>\n",
       "      <td>Utah</td>\n",
       "      <td>Utah County</td>\n",
       "      <td>Not a Foreign National</td>\n",
       "      <td>Firing Squad</td>\n",
       "      <td>Volunteer</td>\n",
       "      <td>1</td>\n",
       "    </tr>\n",
       "    <tr>\n",
       "      <th>1</th>\n",
       "      <td>2</td>\n",
       "      <td>05/25/1979</td>\n",
       "      <td>John</td>\n",
       "      <td>Spenkelink</td>\n",
       "      <td>NaN</td>\n",
       "      <td>NaN</td>\n",
       "      <td>White</td>\n",
       "      <td>Male</td>\n",
       "      <td>South</td>\n",
       "      <td>Florida</td>\n",
       "      <td>Leon County</td>\n",
       "      <td>Not a Foreign National</td>\n",
       "      <td>Electrocution</td>\n",
       "      <td>Not a Volunteer</td>\n",
       "      <td>1</td>\n",
       "    </tr>\n",
       "    <tr>\n",
       "      <th>2</th>\n",
       "      <td>3</td>\n",
       "      <td>10/22/1979</td>\n",
       "      <td>Jesse</td>\n",
       "      <td>Bishop</td>\n",
       "      <td>NaN</td>\n",
       "      <td>NaN</td>\n",
       "      <td>White</td>\n",
       "      <td>Male</td>\n",
       "      <td>West</td>\n",
       "      <td>Nevada</td>\n",
       "      <td>Clark County</td>\n",
       "      <td>Not a Foreign National</td>\n",
       "      <td>Gas</td>\n",
       "      <td>Volunteer</td>\n",
       "      <td>1</td>\n",
       "    </tr>\n",
       "    <tr>\n",
       "      <th>3</th>\n",
       "      <td>4</td>\n",
       "      <td>03/09/1981</td>\n",
       "      <td>Steven</td>\n",
       "      <td>Judy</td>\n",
       "      <td>NaN</td>\n",
       "      <td>NaN</td>\n",
       "      <td>White</td>\n",
       "      <td>Male</td>\n",
       "      <td>Midwest</td>\n",
       "      <td>Indiana</td>\n",
       "      <td>Marion County</td>\n",
       "      <td>Not a Foreign National</td>\n",
       "      <td>Electrocution</td>\n",
       "      <td>Volunteer</td>\n",
       "      <td>4</td>\n",
       "    </tr>\n",
       "    <tr>\n",
       "      <th>4</th>\n",
       "      <td>5</td>\n",
       "      <td>08/10/1982</td>\n",
       "      <td>Frank</td>\n",
       "      <td>Coppola</td>\n",
       "      <td>NaN</td>\n",
       "      <td>NaN</td>\n",
       "      <td>White</td>\n",
       "      <td>Male</td>\n",
       "      <td>South</td>\n",
       "      <td>Virginia</td>\n",
       "      <td>Newport News city</td>\n",
       "      <td>Not a Foreign National</td>\n",
       "      <td>Electrocution</td>\n",
       "      <td>Volunteer</td>\n",
       "      <td>1</td>\n",
       "    </tr>\n",
       "  </tbody>\n",
       "</table>\n",
       "</div>"
      ],
      "text/plain": [
       "   Execution# Execution Date First Name   Last Name Middle Name(s)  Suffix  \\\n",
       "0           1     01/17/1977       Gary     Gilmore           Mark     NaN   \n",
       "1           2     05/25/1979       John  Spenkelink            NaN     NaN   \n",
       "2           3     10/22/1979      Jesse      Bishop            NaN     NaN   \n",
       "3           4     03/09/1981     Steven        Judy            NaN     NaN   \n",
       "4           5     08/10/1982      Frank     Coppola            NaN     NaN   \n",
       "\n",
       "    Race   Sex   Region     State             County        Foreign National  \\\n",
       "0  White  Male     West      Utah        Utah County  Not a Foreign National   \n",
       "1  White  Male    South   Florida        Leon County  Not a Foreign National   \n",
       "2  White  Male     West    Nevada       Clark County  Not a Foreign National   \n",
       "3  White  Male  Midwest   Indiana      Marion County  Not a Foreign National   \n",
       "4  White  Male    South  Virginia  Newport News city  Not a Foreign National   \n",
       "\n",
       "  Execution Method Execution Volunteer  Number of Victims  \n",
       "0     Firing Squad           Volunteer                  1  \n",
       "1    Electrocution     Not a Volunteer                  1  \n",
       "2              Gas           Volunteer                  1  \n",
       "3    Electrocution           Volunteer                  4  \n",
       "4    Electrocution           Volunteer                  1  "
      ]
     },
     "execution_count": 10,
     "metadata": {},
     "output_type": "execute_result"
    }
   ],
   "source": [
    "df.head()"
   ]
  },
  {
   "cell_type": "code",
   "execution_count": 18,
   "metadata": {},
   "outputs": [
    {
     "data": {
      "text/plain": [
       "1500"
      ]
     },
     "execution_count": 18,
     "metadata": {},
     "output_type": "execute_result"
    }
   ],
   "source": [
    "df['Execution Date'].value_counts().sum()"
   ]
  },
  {
   "cell_type": "code",
   "execution_count": 19,
   "metadata": {},
   "outputs": [
    {
     "data": {
      "text/plain": [
       "1999-12-09    4\n",
       "2010-01-07    3\n",
       "1998-04-22    3\n",
       "1987-08-28    3\n",
       "1999-01-13    3\n",
       "Name: Execution Date, dtype: int64"
      ]
     },
     "execution_count": 19,
     "metadata": {},
     "output_type": "execute_result"
    }
   ],
   "source": [
    "df['Execution Date'].value_counts().head()"
   ]
  },
  {
   "cell_type": "code",
   "execution_count": 24,
   "metadata": {},
   "outputs": [
    {
     "data": {
      "text/plain": [
       "White              835\n",
       "Black              513\n",
       "Latino             127\n",
       "Native American     16\n",
       "Asian                7\n",
       "Other Race           2\n",
       "Name: Race, dtype: int64"
      ]
     },
     "execution_count": 24,
     "metadata": {},
     "output_type": "execute_result"
    }
   ],
   "source": [
    "df['Race'].value_counts()"
   ]
  },
  {
   "cell_type": "code",
   "execution_count": 62,
   "metadata": {},
   "outputs": [
    {
     "data": {
      "text/plain": [
       "White              55.666667\n",
       "Black              34.200000\n",
       "Latino              8.466667\n",
       "Native American     1.066667\n",
       "Asian               0.466667\n",
       "Other Race          0.133333\n",
       "Name: Race, dtype: float64"
      ]
     },
     "execution_count": 62,
     "metadata": {},
     "output_type": "execute_result"
    }
   ],
   "source": [
    "df['Race'].value_counts(normalize=True) * 100"
   ]
  },
  {
   "cell_type": "code",
   "execution_count": 114,
   "metadata": {},
   "outputs": [
    {
     "data": {
      "text/html": [
       "<div>\n",
       "<style scoped>\n",
       "    .dataframe tbody tr th:only-of-type {\n",
       "        vertical-align: middle;\n",
       "    }\n",
       "\n",
       "    .dataframe tbody tr th {\n",
       "        vertical-align: top;\n",
       "    }\n",
       "\n",
       "    .dataframe thead th {\n",
       "        text-align: right;\n",
       "    }\n",
       "</style>\n",
       "<table border=\"1\" class=\"dataframe\">\n",
       "  <thead>\n",
       "    <tr style=\"text-align: right;\">\n",
       "      <th></th>\n",
       "      <th>State</th>\n",
       "      <th>Race</th>\n",
       "      <th>count</th>\n",
       "    </tr>\n",
       "  </thead>\n",
       "  <tbody>\n",
       "    <tr>\n",
       "      <th>0</th>\n",
       "      <td>Alabama</td>\n",
       "      <td>White</td>\n",
       "      <td>38</td>\n",
       "    </tr>\n",
       "    <tr>\n",
       "      <th>1</th>\n",
       "      <td>Alabama</td>\n",
       "      <td>Black</td>\n",
       "      <td>28</td>\n",
       "    </tr>\n",
       "    <tr>\n",
       "      <th>2</th>\n",
       "      <td>Arizona</td>\n",
       "      <td>White</td>\n",
       "      <td>29</td>\n",
       "    </tr>\n",
       "    <tr>\n",
       "      <th>3</th>\n",
       "      <td>Arizona</td>\n",
       "      <td>Latino</td>\n",
       "      <td>5</td>\n",
       "    </tr>\n",
       "    <tr>\n",
       "      <th>4</th>\n",
       "      <td>Arizona</td>\n",
       "      <td>Native American</td>\n",
       "      <td>2</td>\n",
       "    </tr>\n",
       "  </tbody>\n",
       "</table>\n",
       "</div>"
      ],
      "text/plain": [
       "     State             Race  count\n",
       "0  Alabama            White     38\n",
       "1  Alabama            Black     28\n",
       "2  Arizona            White     29\n",
       "3  Arizona           Latino      5\n",
       "4  Arizona  Native American      2"
      ]
     },
     "execution_count": 114,
     "metadata": {},
     "output_type": "execute_result"
    }
   ],
   "source": [
    "df.groupby('State') ['Race'].value_counts().reset_index(name = 'count').head()"
   ]
  },
  {
   "cell_type": "code",
   "execution_count": 115,
   "metadata": {},
   "outputs": [
    {
     "data": {
      "text/plain": [
       "Texas       561\n",
       "Oklahoma    113\n",
       "Virginia    113\n",
       "Florida      98\n",
       "Missouri     88\n",
       "Name: State, dtype: int64"
      ]
     },
     "execution_count": 115,
     "metadata": {},
     "output_type": "execute_result"
    }
   ],
   "source": [
    "df['State'].value_counts().head()"
   ]
  },
  {
   "cell_type": "code",
   "execution_count": 65,
   "metadata": {},
   "outputs": [
    {
     "data": {
      "text/plain": [
       "Texas             37.400000\n",
       "Oklahoma           7.533333\n",
       "Virginia           7.533333\n",
       "Florida            6.533333\n",
       "Missouri           5.866667\n",
       "Georgia            4.933333\n",
       "Alabama            4.400000\n",
       "Ohio               3.733333\n",
       "South Carolina     2.866667\n",
       "North Carolina     2.866667\n",
       "Arizona            2.466667\n",
       "Arkansas           2.066667\n",
       "Louisiana          1.866667\n",
       "Mississippi        1.400000\n",
       "Indiana            1.333333\n",
       "Delaware           1.066667\n",
       "California         0.866667\n",
       "Nevada             0.800000\n",
       "Illinois           0.800000\n",
       "Tennessee          0.666667\n",
       "Utah               0.466667\n",
       "Washington         0.333333\n",
       "Maryland           0.333333\n",
       "Nebraska           0.266667\n",
       "South Dakota       0.266667\n",
       "Idaho              0.200000\n",
       "Montana            0.200000\n",
       "Kentucky           0.200000\n",
       "Pennsylvania       0.200000\n",
       "Oregon             0.133333\n",
       "}]                 0.133333\n",
       "New Mexico         0.066667\n",
       "Connecticut        0.066667\n",
       "Colorado           0.066667\n",
       "Wyoming            0.066667\n",
       "Name: State, dtype: float64"
      ]
     },
     "execution_count": 65,
     "metadata": {},
     "output_type": "execute_result"
    }
   ],
   "source": [
    "df['State'].value_counts(normalize=True) * 100"
   ]
  },
  {
   "cell_type": "code",
   "execution_count": 35,
   "metadata": {},
   "outputs": [
    {
     "data": {
      "text/plain": [
       "South        1225\n",
       "Midwest       184\n",
       "West           85\n",
       "Northeast       4\n",
       "ERROR           2\n",
       "Name: Region, dtype: int64"
      ]
     },
     "execution_count": 35,
     "metadata": {},
     "output_type": "execute_result"
    }
   ],
   "source": [
    "df['Region'].value_counts()"
   ]
  },
  {
   "cell_type": "code",
   "execution_count": 68,
   "metadata": {},
   "outputs": [
    {
     "data": {
      "text/plain": [
       "South        81.666667\n",
       "Midwest      12.266667\n",
       "West          5.666667\n",
       "Northeast     0.266667\n",
       "ERROR         0.133333\n",
       "Name: Region, dtype: float64"
      ]
     },
     "execution_count": 68,
     "metadata": {},
     "output_type": "execute_result"
    }
   ],
   "source": [
    "df['Region'].value_counts(normalize=True)*100"
   ]
  },
  {
   "cell_type": "code",
   "execution_count": 38,
   "metadata": {},
   "outputs": [
    {
     "data": {
      "text/html": [
       "<div>\n",
       "<style scoped>\n",
       "    .dataframe tbody tr th:only-of-type {\n",
       "        vertical-align: middle;\n",
       "    }\n",
       "\n",
       "    .dataframe tbody tr th {\n",
       "        vertical-align: top;\n",
       "    }\n",
       "\n",
       "    .dataframe thead th {\n",
       "        text-align: right;\n",
       "    }\n",
       "</style>\n",
       "<table border=\"1\" class=\"dataframe\">\n",
       "  <thead>\n",
       "    <tr style=\"text-align: right;\">\n",
       "      <th></th>\n",
       "      <th>Execution#</th>\n",
       "      <th>Execution Date</th>\n",
       "      <th>First Name</th>\n",
       "      <th>Last Name</th>\n",
       "      <th>Middle Name(s)</th>\n",
       "      <th>Suffix</th>\n",
       "      <th>Race</th>\n",
       "      <th>Sex</th>\n",
       "      <th>Region</th>\n",
       "      <th>State</th>\n",
       "      <th>County</th>\n",
       "      <th>Foreign National</th>\n",
       "      <th>Execution Method</th>\n",
       "      <th>Execution Volunteer</th>\n",
       "      <th>Number of Victims</th>\n",
       "    </tr>\n",
       "  </thead>\n",
       "  <tbody>\n",
       "    <tr>\n",
       "      <th>719</th>\n",
       "      <td>720</td>\n",
       "      <td>2001-06-19</td>\n",
       "      <td>Juan</td>\n",
       "      <td>Garza</td>\n",
       "      <td>Raul</td>\n",
       "      <td>NaN</td>\n",
       "      <td>Latino</td>\n",
       "      <td>Male</td>\n",
       "      <td>ERROR</td>\n",
       "      <td>}]</td>\n",
       "      <td>State</td>\n",
       "      <td>Not a Foreign National</td>\n",
       "      <td>Lethal Injection</td>\n",
       "      <td>Not a Volunteer</td>\n",
       "      <td>3</td>\n",
       "    </tr>\n",
       "    <tr>\n",
       "      <th>836</th>\n",
       "      <td>837</td>\n",
       "      <td>2003-03-18</td>\n",
       "      <td>Louis</td>\n",
       "      <td>Jones</td>\n",
       "      <td>NaN</td>\n",
       "      <td>NaN</td>\n",
       "      <td>Black</td>\n",
       "      <td>Male</td>\n",
       "      <td>ERROR</td>\n",
       "      <td>}]</td>\n",
       "      <td>State</td>\n",
       "      <td>Not a Foreign National</td>\n",
       "      <td>Lethal Injection</td>\n",
       "      <td>Not a Volunteer</td>\n",
       "      <td>1</td>\n",
       "    </tr>\n",
       "  </tbody>\n",
       "</table>\n",
       "</div>"
      ],
      "text/plain": [
       "     Execution# Execution Date First Name Last Name Middle Name(s)  Suffix  \\\n",
       "719         720     2001-06-19       Juan     Garza           Raul     NaN   \n",
       "836         837     2003-03-18      Louis     Jones            NaN     NaN   \n",
       "\n",
       "       Race   Sex Region State County        Foreign National  \\\n",
       "719  Latino  Male  ERROR    }]  State  Not a Foreign National   \n",
       "836   Black  Male  ERROR    }]  State  Not a Foreign National   \n",
       "\n",
       "     Execution Method Execution Volunteer  Number of Victims  \n",
       "719  Lethal Injection     Not a Volunteer                  3  \n",
       "836  Lethal Injection     Not a Volunteer                  1  "
      ]
     },
     "execution_count": 38,
     "metadata": {},
     "output_type": "execute_result"
    }
   ],
   "source": [
    "df[df['Region'] == 'ERROR']"
   ]
  },
  {
   "cell_type": "code",
   "execution_count": 40,
   "metadata": {},
   "outputs": [
    {
     "data": {
      "text/plain": [
       "Johnson     24\n",
       "Williams    22\n",
       "Smith       21\n",
       "Jones       18\n",
       "Brown       11\n",
       "Name: Last Name, dtype: int64"
      ]
     },
     "execution_count": 40,
     "metadata": {},
     "output_type": "execute_result"
    }
   ],
   "source": [
    "df[df['Last Name'].value_counts().head()].value_counts().head()"
   ]
  },
  {
   "cell_type": "code",
   "execution_count": 41,
   "metadata": {},
   "outputs": [
    {
     "data": {
      "text/plain": [
       "Robert     68\n",
       "John       62\n",
       "James      56\n",
       "Michael    46\n",
       "David      41\n",
       "Name: First Name, dtype: int64"
      ]
     },
     "execution_count": 41,
     "metadata": {},
     "output_type": "execute_result"
    }
   ],
   "source": [
    "df['First Name'].value_counts().head()"
   ]
  },
  {
   "cell_type": "code",
   "execution_count": 54,
   "metadata": {},
   "outputs": [
    {
     "data": {
      "text/plain": [
       "Not a Foreign National    1466\n",
       "Foreign National            34\n",
       "Name: Foreign National, dtype: int64"
      ]
     },
     "execution_count": 54,
     "metadata": {},
     "output_type": "execute_result"
    }
   ],
   "source": [
    "df['Foreign National'].value_counts()"
   ]
  },
  {
   "cell_type": "code",
   "execution_count": 61,
   "metadata": {},
   "outputs": [
    {
     "data": {
      "text/plain": [
       "Not a Foreign National    97.733333\n",
       "Foreign National           2.266667\n",
       "Name: Foreign National, dtype: float64"
      ]
     },
     "execution_count": 61,
     "metadata": {},
     "output_type": "execute_result"
    }
   ],
   "source": [
    "df['Foreign National'].value_counts(normalize=True) * 100"
   ]
  },
  {
   "cell_type": "code",
   "execution_count": 44,
   "metadata": {},
   "outputs": [
    {
     "data": {
      "text/plain": [
       "Lethal Injection    1323\n",
       "Electrocution        160\n",
       "Gas                   11\n",
       "Firing Squad           3\n",
       "Hanging                3\n",
       "Name: Execution Method, dtype: int64"
      ]
     },
     "execution_count": 44,
     "metadata": {},
     "output_type": "execute_result"
    }
   ],
   "source": [
    "df['Execution Method'].value_counts()"
   ]
  },
  {
   "cell_type": "code",
   "execution_count": 71,
   "metadata": {},
   "outputs": [
    {
     "data": {
      "text/plain": [
       "Lethal Injection    88.200000\n",
       "Electrocution       10.666667\n",
       "Gas                  0.733333\n",
       "Firing Squad         0.200000\n",
       "Hanging              0.200000\n",
       "Name: Execution Method, dtype: float64"
      ]
     },
     "execution_count": 71,
     "metadata": {},
     "output_type": "execute_result"
    }
   ],
   "source": [
    "df['Execution Method'].value_counts(normalize=True) * 100"
   ]
  },
  {
   "cell_type": "code",
   "execution_count": 47,
   "metadata": {},
   "outputs": [
    {
     "data": {
      "text/plain": [
       "State     Execution Method\n",
       "Alabama   Lethal Injection    42\n",
       "          Electrocution       24\n",
       "Arizona   Lethal Injection    35\n",
       "          Gas                  2\n",
       "Arkansas  Lethal Injection    30\n",
       "Name: Execution Method, dtype: int64"
      ]
     },
     "execution_count": 47,
     "metadata": {},
     "output_type": "execute_result"
    }
   ],
   "source": [
    "df.groupby('State') ['Execution Method'].value_counts().head()"
   ]
  },
  {
   "cell_type": "code",
   "execution_count": 73,
   "metadata": {},
   "outputs": [
    {
     "data": {
      "text/plain": [
       "State           Execution Method\n",
       "Alabama         Lethal Injection     63.636364\n",
       "                Electrocution        36.363636\n",
       "Arizona         Lethal Injection     94.594595\n",
       "                Gas                   5.405405\n",
       "Arkansas        Lethal Injection     96.774194\n",
       "                Electrocution         3.225806\n",
       "California      Lethal Injection     84.615385\n",
       "                Gas                  15.384615\n",
       "Colorado        Lethal Injection    100.000000\n",
       "Connecticut     Lethal Injection    100.000000\n",
       "Delaware        Lethal Injection     93.750000\n",
       "                Hanging               6.250000\n",
       "Florida         Lethal Injection     55.102041\n",
       "                Electrocution        44.897959\n",
       "Georgia         Lethal Injection     68.918919\n",
       "                Electrocution        31.081081\n",
       "Idaho           Lethal Injection    100.000000\n",
       "Illinois        Lethal Injection    100.000000\n",
       "Indiana         Lethal Injection     85.000000\n",
       "                Electrocution        15.000000\n",
       "Kentucky        Lethal Injection     66.666667\n",
       "                Electrocution        33.333333\n",
       "Louisiana       Electrocution        71.428571\n",
       "                Lethal Injection     28.571429\n",
       "Maryland        Lethal Injection    100.000000\n",
       "Mississippi     Lethal Injection     80.952381\n",
       "                Gas                  19.047619\n",
       "Missouri        Lethal Injection    100.000000\n",
       "Montana         Lethal Injection    100.000000\n",
       "Nebraska        Electrocution        75.000000\n",
       "                Lethal Injection     25.000000\n",
       "Nevada          Lethal Injection     91.666667\n",
       "                Gas                   8.333333\n",
       "New Mexico      Lethal Injection    100.000000\n",
       "North Carolina  Lethal Injection     95.348837\n",
       "                Gas                   4.651163\n",
       "Ohio            Lethal Injection    100.000000\n",
       "Oklahoma        Lethal Injection    100.000000\n",
       "Oregon          Lethal Injection    100.000000\n",
       "Pennsylvania    Lethal Injection    100.000000\n",
       "South Carolina  Lethal Injection     83.720930\n",
       "                Electrocution        16.279070\n",
       "South Dakota    Lethal Injection    100.000000\n",
       "Tennessee       Lethal Injection     70.000000\n",
       "                Electrocution        30.000000\n",
       "Texas           Lethal Injection    100.000000\n",
       "Utah            Lethal Injection     57.142857\n",
       "                Firing Squad         42.857143\n",
       "Virginia        Lethal Injection     72.566372\n",
       "                Electrocution        27.433628\n",
       "Washington      Lethal Injection     60.000000\n",
       "                Hanging              40.000000\n",
       "Wyoming         Lethal Injection    100.000000\n",
       "}]              Lethal Injection    100.000000\n",
       "Name: Execution Method, dtype: float64"
      ]
     },
     "execution_count": 73,
     "metadata": {},
     "output_type": "execute_result"
    }
   ],
   "source": [
    "df.groupby('State') ['Execution Method'].value_counts(normalize=True) * 100"
   ]
  },
  {
   "cell_type": "code",
   "execution_count": 79,
   "metadata": {},
   "outputs": [
    {
     "data": {
      "text/plain": [
       "Male      98.933333\n",
       "Female     1.066667\n",
       "Name: Sex, dtype: float64"
      ]
     },
     "execution_count": 79,
     "metadata": {},
     "output_type": "execute_result"
    }
   ],
   "source": [
    "(df['Sex'].value_counts()/df['Sex'].count())*100"
   ]
  },
  {
   "cell_type": "code",
   "execution_count": 49,
   "metadata": {},
   "outputs": [
    {
     "data": {
      "text/plain": [
       "Not a Volunteer    1350\n",
       "Volunteer           150\n",
       "Name: Execution Volunteer, dtype: int64"
      ]
     },
     "execution_count": 49,
     "metadata": {},
     "output_type": "execute_result"
    }
   ],
   "source": [
    "df['Execution Volunteer'].value_counts()"
   ]
  },
  {
   "cell_type": "code",
   "execution_count": 80,
   "metadata": {},
   "outputs": [
    {
     "data": {
      "text/plain": [
       "Not a Volunteer    90.0\n",
       "Volunteer          10.0\n",
       "Name: Execution Volunteer, dtype: float64"
      ]
     },
     "execution_count": 80,
     "metadata": {},
     "output_type": "execute_result"
    }
   ],
   "source": [
    "df['Execution Volunteer'].value_counts(normalize=True) * 100"
   ]
  },
  {
   "cell_type": "code",
   "execution_count": 118,
   "metadata": {},
   "outputs": [
    {
     "data": {
      "text/plain": [
       "Harris County      129\n",
       "Dallas County       61\n",
       "Bexar County        45\n",
       "Oklahoma County     42\n",
       "Tarrant County      41\n",
       "Name: County, dtype: int64"
      ]
     },
     "execution_count": 118,
     "metadata": {},
     "output_type": "execute_result"
    }
   ],
   "source": [
    "df['County'].value_counts().head()"
   ]
  },
  {
   "cell_type": "code",
   "execution_count": 117,
   "metadata": {},
   "outputs": [
    {
     "data": {
      "text/plain": [
       "Harris County            8.600000\n",
       "Dallas County            4.066667\n",
       "Bexar County             3.000000\n",
       "Oklahoma County          2.800000\n",
       "Tarrant County           2.733333\n",
       "Jefferson County         2.333333\n",
       "Montgomery County        1.733333\n",
       "St. Louis County         1.266667\n",
       "Tulsa County             1.133333\n",
       "Jackson County           0.933333\n",
       "Nueces County            0.866667\n",
       "Pima County              0.866667\n",
       "Smith County             0.866667\n",
       "Miami-Dade County        0.866667\n",
       "Hamilton County          0.800000\n",
       "St. Louis city           0.800000\n",
       "Orange County            0.800000\n",
       "Brazos County            0.800000\n",
       "Lubbock County           0.733333\n",
       "Potter County            0.733333\n",
       "Marion County            0.733333\n",
       "Maricopa County          0.733333\n",
       "Madison County           0.666667\n",
       "Mobile County            0.666667\n",
       "Cuyahoga County          0.600000\n",
       "Clark County             0.600000\n",
       "Prince William County    0.600000\n",
       "New Castle County        0.600000\n",
       "McLennan County          0.600000\n",
       "Virginia Beach city      0.533333\n",
       "                           ...   \n",
       "Creek County             0.066667\n",
       "Staunton city            0.066667\n",
       "Sussex County            0.066667\n",
       "Dauphin County           0.066667\n",
       "Ada County               0.066667\n",
       "San Patricio County      0.066667\n",
       "Allen County             0.066667\n",
       "Iron County              0.066667\n",
       "Coal County              0.066667\n",
       "Brown County             0.066667\n",
       "Baltimore city           0.066667\n",
       "Morris County            0.066667\n",
       "Ottawa County            0.066667\n",
       "Bartow County            0.066667\n",
       "Berrien County           0.066667\n",
       "San Francisco County     0.066667\n",
       "Hutchinson County        0.066667\n",
       "Edgecombe County         0.066667\n",
       "Dawson County            0.066667\n",
       "Iberia Parish            0.066667\n",
       "Nevada County            0.066667\n",
       "Philadelphia County      0.066667\n",
       "Conway County            0.066667\n",
       "Charles City County      0.066667\n",
       "Livingston Parish        0.066667\n",
       "Lafourche Parish         0.066667\n",
       "Glades County            0.066667\n",
       "Van Buren County         0.066667\n",
       "San Mateo County         0.066667\n",
       "Cumberland County        0.066667\n",
       "Name: County, Length: 410, dtype: float64"
      ]
     },
     "execution_count": 117,
     "metadata": {},
     "output_type": "execute_result"
    }
   ],
   "source": [
    "df['County'].value_counts(normalize=True) * 100"
   ]
  },
  {
   "cell_type": "code",
   "execution_count": 123,
   "metadata": {},
   "outputs": [
    {
     "data": {
      "text/html": [
       "<div>\n",
       "<style scoped>\n",
       "    .dataframe tbody tr th:only-of-type {\n",
       "        vertical-align: middle;\n",
       "    }\n",
       "\n",
       "    .dataframe tbody tr th {\n",
       "        vertical-align: top;\n",
       "    }\n",
       "\n",
       "    .dataframe thead th {\n",
       "        text-align: right;\n",
       "    }\n",
       "</style>\n",
       "<table border=\"1\" class=\"dataframe\">\n",
       "  <thead>\n",
       "    <tr style=\"text-align: right;\">\n",
       "      <th></th>\n",
       "      <th>Region</th>\n",
       "      <th>State</th>\n",
       "      <th>County</th>\n",
       "      <th>Race</th>\n",
       "      <th>Count</th>\n",
       "    </tr>\n",
       "  </thead>\n",
       "  <tbody>\n",
       "    <tr>\n",
       "      <th>0</th>\n",
       "      <td>South</td>\n",
       "      <td>Texas</td>\n",
       "      <td>Harris County</td>\n",
       "      <td>Black</td>\n",
       "      <td>69</td>\n",
       "    </tr>\n",
       "    <tr>\n",
       "      <th>1</th>\n",
       "      <td>South</td>\n",
       "      <td>Texas</td>\n",
       "      <td>Harris County</td>\n",
       "      <td>White</td>\n",
       "      <td>42</td>\n",
       "    </tr>\n",
       "    <tr>\n",
       "      <th>2</th>\n",
       "      <td>South</td>\n",
       "      <td>Texas</td>\n",
       "      <td>Dallas County</td>\n",
       "      <td>Black</td>\n",
       "      <td>26</td>\n",
       "    </tr>\n",
       "    <tr>\n",
       "      <th>3</th>\n",
       "      <td>South</td>\n",
       "      <td>Texas</td>\n",
       "      <td>Bexar County</td>\n",
       "      <td>Latino</td>\n",
       "      <td>23</td>\n",
       "    </tr>\n",
       "    <tr>\n",
       "      <th>4</th>\n",
       "      <td>South</td>\n",
       "      <td>Texas</td>\n",
       "      <td>Dallas County</td>\n",
       "      <td>White</td>\n",
       "      <td>21</td>\n",
       "    </tr>\n",
       "    <tr>\n",
       "      <th>5</th>\n",
       "      <td>South</td>\n",
       "      <td>Oklahoma</td>\n",
       "      <td>Oklahoma County</td>\n",
       "      <td>White</td>\n",
       "      <td>20</td>\n",
       "    </tr>\n",
       "    <tr>\n",
       "      <th>6</th>\n",
       "      <td>South</td>\n",
       "      <td>Texas</td>\n",
       "      <td>Tarrant County</td>\n",
       "      <td>White</td>\n",
       "      <td>19</td>\n",
       "    </tr>\n",
       "    <tr>\n",
       "      <th>7</th>\n",
       "      <td>South</td>\n",
       "      <td>Texas</td>\n",
       "      <td>Bexar County</td>\n",
       "      <td>Black</td>\n",
       "      <td>17</td>\n",
       "    </tr>\n",
       "    <tr>\n",
       "      <th>8</th>\n",
       "      <td>South</td>\n",
       "      <td>Oklahoma</td>\n",
       "      <td>Oklahoma County</td>\n",
       "      <td>Black</td>\n",
       "      <td>17</td>\n",
       "    </tr>\n",
       "    <tr>\n",
       "      <th>9</th>\n",
       "      <td>South</td>\n",
       "      <td>Texas</td>\n",
       "      <td>Tarrant County</td>\n",
       "      <td>Black</td>\n",
       "      <td>17</td>\n",
       "    </tr>\n",
       "    <tr>\n",
       "      <th>10</th>\n",
       "      <td>South</td>\n",
       "      <td>Texas</td>\n",
       "      <td>Harris County</td>\n",
       "      <td>Latino</td>\n",
       "      <td>16</td>\n",
       "    </tr>\n",
       "    <tr>\n",
       "      <th>11</th>\n",
       "      <td>South</td>\n",
       "      <td>Texas</td>\n",
       "      <td>Montgomery County</td>\n",
       "      <td>White</td>\n",
       "      <td>14</td>\n",
       "    </tr>\n",
       "    <tr>\n",
       "      <th>12</th>\n",
       "      <td>South</td>\n",
       "      <td>Texas</td>\n",
       "      <td>Dallas County</td>\n",
       "      <td>Latino</td>\n",
       "      <td>12</td>\n",
       "    </tr>\n",
       "    <tr>\n",
       "      <th>13</th>\n",
       "      <td>West</td>\n",
       "      <td>Arizona</td>\n",
       "      <td>Pima County</td>\n",
       "      <td>White</td>\n",
       "      <td>12</td>\n",
       "    </tr>\n",
       "    <tr>\n",
       "      <th>14</th>\n",
       "      <td>Midwest</td>\n",
       "      <td>Missouri</td>\n",
       "      <td>St. Louis County</td>\n",
       "      <td>Black</td>\n",
       "      <td>11</td>\n",
       "    </tr>\n",
       "    <tr>\n",
       "      <th>15</th>\n",
       "      <td>Midwest</td>\n",
       "      <td>Missouri</td>\n",
       "      <td>St. Louis city</td>\n",
       "      <td>Black</td>\n",
       "      <td>10</td>\n",
       "    </tr>\n",
       "  </tbody>\n",
       "</table>\n",
       "</div>"
      ],
      "text/plain": [
       "     Region     State             County    Race  Count\n",
       "0     South     Texas      Harris County   Black     69\n",
       "1     South     Texas      Harris County   White     42\n",
       "2     South     Texas      Dallas County   Black     26\n",
       "3     South     Texas       Bexar County  Latino     23\n",
       "4     South     Texas      Dallas County   White     21\n",
       "5     South  Oklahoma    Oklahoma County   White     20\n",
       "6     South     Texas     Tarrant County   White     19\n",
       "7     South     Texas       Bexar County   Black     17\n",
       "8     South  Oklahoma    Oklahoma County   Black     17\n",
       "9     South     Texas     Tarrant County   Black     17\n",
       "10    South     Texas      Harris County  Latino     16\n",
       "11    South     Texas  Montgomery County   White     14\n",
       "12    South     Texas      Dallas County  Latino     12\n",
       "13     West   Arizona        Pima County   White     12\n",
       "14  Midwest  Missouri   St. Louis County   Black     11\n",
       "15  Midwest  Missouri     St. Louis city   Black     10"
      ]
     },
     "execution_count": 123,
     "metadata": {},
     "output_type": "execute_result"
    }
   ],
   "source": [
    "df.groupby([df.Region, df.State, df.County]) ['Race'].value_counts().sort_values(ascending=False).reset_index(name = 'Count').head(16)\n",
    "\n"
   ]
  },
  {
   "cell_type": "code",
   "execution_count": 101,
   "metadata": {},
   "outputs": [
    {
     "data": {
      "text/plain": [
       "State  Race           \n",
       "Texas  Black              69\n",
       "       White              42\n",
       "       Latino             16\n",
       "       Asian               1\n",
       "       Native American     1\n",
       "Name: Race, dtype: int64"
      ]
     },
     "execution_count": 101,
     "metadata": {},
     "output_type": "execute_result"
    }
   ],
   "source": [
    "df[df['County'] == 'Harris County'].groupby('State').Race.value_counts()"
   ]
  },
  {
   "cell_type": "code",
   "execution_count": 102,
   "metadata": {},
   "outputs": [
    {
     "data": {
      "text/plain": [
       "State    Race           \n",
       "Alabama  Black               1\n",
       "Texas    Black              26\n",
       "         White              21\n",
       "         Latino             12\n",
       "         Native American     1\n",
       "Name: Race, dtype: int64"
      ]
     },
     "execution_count": 102,
     "metadata": {},
     "output_type": "execute_result"
    }
   ],
   "source": [
    "df[df['County'] == 'Dallas County'].groupby('State').Race.value_counts()"
   ]
  },
  {
   "cell_type": "code",
   "execution_count": 104,
   "metadata": {},
   "outputs": [
    {
     "data": {
      "text/plain": [
       "State  Race  \n",
       "Texas  Latino    23\n",
       "       Black     17\n",
       "       White      5\n",
       "Name: Race, dtype: int64"
      ]
     },
     "execution_count": 104,
     "metadata": {},
     "output_type": "execute_result"
    }
   ],
   "source": [
    "df[df['County'] == 'Bexar County'].groupby('State').Race.value_counts()"
   ]
  },
  {
   "cell_type": "code",
   "execution_count": 105,
   "metadata": {},
   "outputs": [
    {
     "data": {
      "text/plain": [
       "State     Race           \n",
       "Oklahoma  White              20\n",
       "          Black              17\n",
       "          Native American     2\n",
       "          Asian               1\n",
       "          Latino              1\n",
       "          Other Race          1\n",
       "Name: Race, dtype: int64"
      ]
     },
     "execution_count": 105,
     "metadata": {},
     "output_type": "execute_result"
    }
   ],
   "source": [
    "df[df['County'] == 'Oklahoma County'].groupby('State').Race.value_counts()"
   ]
  },
  {
   "cell_type": "code",
   "execution_count": 124,
   "metadata": {},
   "outputs": [
    {
     "data": {
      "text/plain": [
       "State  Race  \n",
       "Texas  White     19\n",
       "       Black     17\n",
       "       Latino     5\n",
       "Name: Race, dtype: int64"
      ]
     },
     "execution_count": 124,
     "metadata": {},
     "output_type": "execute_result"
    }
   ],
   "source": [
    "df[df['County'] == 'Tarrant County'].groupby('State').Race.value_counts()"
   ]
  },
  {
   "cell_type": "code",
   "execution_count": null,
   "metadata": {},
   "outputs": [],
   "source": []
  }
 ],
 "metadata": {
  "kernelspec": {
   "display_name": "Python 3",
   "language": "python",
   "name": "python3"
  },
  "language_info": {
   "codemirror_mode": {
    "name": "ipython",
    "version": 3
   },
   "file_extension": ".py",
   "mimetype": "text/x-python",
   "name": "python",
   "nbconvert_exporter": "python",
   "pygments_lexer": "ipython3",
   "version": "3.6.5"
  }
 },
 "nbformat": 4,
 "nbformat_minor": 2
}
