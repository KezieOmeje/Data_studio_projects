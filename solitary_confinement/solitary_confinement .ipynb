{
 "cells": [
  {
   "cell_type": "code",
   "execution_count": 1,
   "metadata": {},
   "outputs": [],
   "source": [
    "import pandas as pd\n",
    "import numpy as np\n",
    "import matplotlib.pyplot as plt\n",
    "%matplotlib inline"
   ]
  },
  {
   "cell_type": "code",
   "execution_count": 2,
   "metadata": {},
   "outputs": [],
   "source": [
    "df = pd.read_csv('icij-solitary-voices-final-dataset-for-publication.csv')"
   ]
  },
  {
   "cell_type": "code",
   "execution_count": 3,
   "metadata": {},
   "outputs": [
    {
     "data": {
      "text/html": [
       "<div>\n",
       "<style scoped>\n",
       "    .dataframe tbody tr th:only-of-type {\n",
       "        vertical-align: middle;\n",
       "    }\n",
       "\n",
       "    .dataframe tbody tr th {\n",
       "        vertical-align: top;\n",
       "    }\n",
       "\n",
       "    .dataframe thead th {\n",
       "        text-align: right;\n",
       "    }\n",
       "</style>\n",
       "<table border=\"1\" class=\"dataframe\">\n",
       "  <thead>\n",
       "    <tr style=\"text-align: right;\">\n",
       "      <th></th>\n",
       "      <th>record_id</th>\n",
       "      <th>citizenship</th>\n",
       "      <th>citizenship_id</th>\n",
       "      <th>facility_aor</th>\n",
       "      <th>state</th>\n",
       "      <th>facility</th>\n",
       "      <th>facility_id</th>\n",
       "      <th>placement_date</th>\n",
       "      <th>year</th>\n",
       "      <th>placement_reason</th>\n",
       "      <th>placement_reason_raw</th>\n",
       "      <th>release_date</th>\n",
       "      <th>days_solitary</th>\n",
       "      <th>mental_illness</th>\n",
       "      <th>no_suicide_watch</th>\n",
       "    </tr>\n",
       "  </thead>\n",
       "  <tbody>\n",
       "    <tr>\n",
       "      <th>0</th>\n",
       "      <td>1</td>\n",
       "      <td>Mexico</td>\n",
       "      <td>mexico</td>\n",
       "      <td>PHO (Phoenix)</td>\n",
       "      <td>AZ</td>\n",
       "      <td>AZ - Eloy Federal Contract Facility</td>\n",
       "      <td>eloy_federal_contract_facility_az</td>\n",
       "      <td>Apr 30, 2012</td>\n",
       "      <td>2012</td>\n",
       "      <td>Protective Custody: Gang Status (Protective Cu...</td>\n",
       "      <td>protective_custody_gang_status_protective_cust...</td>\n",
       "      <td>Jun 27, 2013</td>\n",
       "      <td>423.0</td>\n",
       "      <td>no</td>\n",
       "      <td>no</td>\n",
       "    </tr>\n",
       "    <tr>\n",
       "      <th>1</th>\n",
       "      <td>2</td>\n",
       "      <td>Sierra Leone</td>\n",
       "      <td>sierra_leone</td>\n",
       "      <td>SLC (Salt Lake City)</td>\n",
       "      <td>NV</td>\n",
       "      <td>NV - Henderson Detention Center</td>\n",
       "      <td>henderson_detention_center_nv</td>\n",
       "      <td>May 30, 2012</td>\n",
       "      <td>2012</td>\n",
       "      <td>Protective Custody: Criminal Offense</td>\n",
       "      <td>protective_custody_criminal_offense</td>\n",
       "      <td>Oct 30, 2013</td>\n",
       "      <td>518.0</td>\n",
       "      <td>no</td>\n",
       "      <td>no</td>\n",
       "    </tr>\n",
       "    <tr>\n",
       "      <th>2</th>\n",
       "      <td>3</td>\n",
       "      <td>El Salvador</td>\n",
       "      <td>el_salvador</td>\n",
       "      <td>SLC (Salt Lake City)</td>\n",
       "      <td>NV</td>\n",
       "      <td>NV - Henderson Detention Center</td>\n",
       "      <td>henderson_detention_center_nv</td>\n",
       "      <td>Jul 12, 2012</td>\n",
       "      <td>2012</td>\n",
       "      <td>Protective Custody: Gang Status (Protective Cu...</td>\n",
       "      <td>protective_custody_gang_status_protective_cust...</td>\n",
       "      <td>Mar 07, 2013</td>\n",
       "      <td>208.0</td>\n",
       "      <td>no</td>\n",
       "      <td>no</td>\n",
       "    </tr>\n",
       "    <tr>\n",
       "      <th>3</th>\n",
       "      <td>4</td>\n",
       "      <td>Iraq</td>\n",
       "      <td>iraq</td>\n",
       "      <td>SND (San Diego)</td>\n",
       "      <td>CA</td>\n",
       "      <td>CA - San Diego Contract Detention Facility - C...</td>\n",
       "      <td>san_diego_contract_detention_facility_cca_otay_ca</td>\n",
       "      <td>Jul 25, 2012</td>\n",
       "      <td>2012</td>\n",
       "      <td>Mental Illness</td>\n",
       "      <td>mental_illness</td>\n",
       "      <td>Nov 13, 2013</td>\n",
       "      <td>476.0</td>\n",
       "      <td>yes</td>\n",
       "      <td>no</td>\n",
       "    </tr>\n",
       "    <tr>\n",
       "      <th>4</th>\n",
       "      <td>5</td>\n",
       "      <td>Mexico</td>\n",
       "      <td>mexico</td>\n",
       "      <td>PHO (Phoenix)</td>\n",
       "      <td>AZ</td>\n",
       "      <td>AZ - Eloy Federal Contract Facility</td>\n",
       "      <td>eloy_federal_contract_facility_az</td>\n",
       "      <td>Aug 17, 2012</td>\n",
       "      <td>2012</td>\n",
       "      <td>Protective Custody: Criminal Offense</td>\n",
       "      <td>protective_custody_criminal_offense</td>\n",
       "      <td>Aug 11, 2013</td>\n",
       "      <td>448.0</td>\n",
       "      <td>no</td>\n",
       "      <td>no</td>\n",
       "    </tr>\n",
       "  </tbody>\n",
       "</table>\n",
       "</div>"
      ],
      "text/plain": [
       "   record_id   citizenship citizenship_id          facility_aor state  \\\n",
       "0          1        Mexico         mexico         PHO (Phoenix)    AZ   \n",
       "1          2  Sierra Leone   sierra_leone  SLC (Salt Lake City)    NV   \n",
       "2          3   El Salvador    el_salvador  SLC (Salt Lake City)    NV   \n",
       "3          4          Iraq           iraq       SND (San Diego)    CA   \n",
       "4          5        Mexico         mexico         PHO (Phoenix)    AZ   \n",
       "\n",
       "                                            facility  \\\n",
       "0               AZ - Eloy Federal Contract Facility    \n",
       "1                   NV - Henderson Detention Center    \n",
       "2                   NV - Henderson Detention Center    \n",
       "3  CA - San Diego Contract Detention Facility - C...   \n",
       "4               AZ - Eloy Federal Contract Facility    \n",
       "\n",
       "                                         facility_id placement_date  year  \\\n",
       "0                  eloy_federal_contract_facility_az   Apr 30, 2012  2012   \n",
       "1                      henderson_detention_center_nv   May 30, 2012  2012   \n",
       "2                      henderson_detention_center_nv   Jul 12, 2012  2012   \n",
       "3  san_diego_contract_detention_facility_cca_otay_ca   Jul 25, 2012  2012   \n",
       "4                  eloy_federal_contract_facility_az   Aug 17, 2012  2012   \n",
       "\n",
       "                                    placement_reason  \\\n",
       "0  Protective Custody: Gang Status (Protective Cu...   \n",
       "1               Protective Custody: Criminal Offense   \n",
       "2  Protective Custody: Gang Status (Protective Cu...   \n",
       "3                                     Mental Illness   \n",
       "4               Protective Custody: Criminal Offense   \n",
       "\n",
       "                                placement_reason_raw  release_date  \\\n",
       "0  protective_custody_gang_status_protective_cust...  Jun 27, 2013   \n",
       "1                protective_custody_criminal_offense  Oct 30, 2013   \n",
       "2  protective_custody_gang_status_protective_cust...  Mar 07, 2013   \n",
       "3                                     mental_illness  Nov 13, 2013   \n",
       "4                protective_custody_criminal_offense  Aug 11, 2013   \n",
       "\n",
       "   days_solitary mental_illness no_suicide_watch  \n",
       "0          423.0             no               no  \n",
       "1          518.0             no               no  \n",
       "2          208.0             no               no  \n",
       "3          476.0            yes               no  \n",
       "4          448.0             no               no  "
      ]
     },
     "execution_count": 3,
     "metadata": {},
     "output_type": "execute_result"
    }
   ],
   "source": [
    "df.head()"
   ]
  },
  {
   "cell_type": "code",
   "execution_count": 5,
   "metadata": {},
   "outputs": [
    {
     "data": {
      "text/plain": [
       "0    2016\n",
       "1    2015\n",
       "2    2014\n",
       "3    2013\n",
       "4    2017\n",
       "5    2012\n",
       "Name: index, dtype: int64"
      ]
     },
     "execution_count": 5,
     "metadata": {},
     "output_type": "execute_result"
    }
   ],
   "source": [
    "df.year.value_counts().reset_index(name='detainees')['index']"
   ]
  },
  {
   "cell_type": "code",
   "execution_count": 15,
   "metadata": {},
   "outputs": [],
   "source": [
    "graph_df = pd.DataFrame(df.year.value_counts().reset_index(name='detainees'))\n",
    "graph_df = graph_df.rename(columns = {'index':'Year'})\n",
    "\n"
   ]
  },
  {
   "cell_type": "code",
   "execution_count": 14,
   "metadata": {},
   "outputs": [
    {
     "data": {
      "text/plain": [
       "<matplotlib.axes._subplots.AxesSubplot at 0x10e5e4320>"
      ]
     },
     "execution_count": 14,
     "metadata": {},
     "output_type": "execute_result"
    },
    {
     "data": {
      "image/png": "[encoded data removed]",
      "text/plain": [
       "<Figure size 720x432 with 1 Axes>"
      ]
     },
     "metadata": {
      "needs_background": "light"
     },
     "output_type": "display_data"
    }
   ],
   "source": [
    "\n",
    "graph_df.sort_values(by='Year',ascending=True).plot(x='Year', y='detainees',kind='area', style='.-', color='grey', figsize=(10,6))\n"
   ]
  },
  {
   "cell_type": "code",
   "execution_count": 8,
   "metadata": {},
   "outputs": [
    {
     "data": {
      "text/plain": [
       "<matplotlib.axes._subplots.AxesSubplot at 0x10ca09390>"
      ]
     },
     "execution_count": 8,
     "metadata": {},
     "output_type": "execute_result"
    },
    {
     "data": {
      "image/png": "[encoded data removed]",
      "text/plain": [
       "<Figure size 432x288 with 1 Axes>"
      ]
     },
     "metadata": {
      "needs_background": "light"
     },
     "output_type": "display_data"
    }
   ],
   "source": [
    "df[df['citizenship'] == 'Mexico'] ['year'].value_counts().plot(x='year', y='citizenship', kind='bar')\n",
    "\n"
   ]
  },
  {
   "cell_type": "code",
   "execution_count": 17,
   "metadata": {},
   "outputs": [
    {
     "data": {
      "text/plain": [
       "year  facility                                               \n",
       "2012  AZ - Eloy Federal Contract Facility                         3\n",
       "      AZ - Pinal County Jail                                      1\n",
       "      TX - El Paso Service Processing Center                      1\n",
       "2013  WA - Northwest Detention Center                            43\n",
       "      CA - Adelanto Correctional Facility                        41\n",
       "      CA - San Diego Contract Detention Facility - CCA (otay)    27\n",
       "      CO - Denver Contract Detention Facility                    22\n",
       "      TX - Houston Contract Detention Facility                   17\n",
       "      CA - Sacramento County Jail-rio Cosumnes Corr. Center      16\n",
       "      AZ - Pinal County Jail                                     15\n",
       "      CA - El Centro Service Processing Center                   12\n",
       "      LA - Jena/lasalle Detention Facility                       10\n",
       "      AZ - Eloy Federal Contract Facility                         9\n",
       "      CA - California City Correctional Center                    7\n",
       "      NV - Henderson Detention Center                             7\n",
       "      PA - York County Prison                                     7\n",
       "      TX - El Paso Service Processing Center                      6\n",
       "      CA - Yuba County Jail                                       4\n",
       "      LA - South Louisiana Detention Center (basile)              4\n",
       "      TX - South Texas Detention Complex                          4\n",
       "      VA - Immigration Centers Of America Farmville               4\n",
       "      FL - Krome North Service Processing Center                  3\n",
       "      GA - Stewart Detention Center                               3\n",
       "      NJ - Essex County Jail                                      3\n",
       "      NM - Otero County Processing Center                         3\n",
       "      AZ - Florence Service Processing Center                     2\n",
       "      FL - Baker County Sheriff's Office                          2\n",
       "      IL - Mchenry County Correctional Facility                   2\n",
       "      IL - Tri-county Detention Center                            2\n",
       "      OH - Seneca County Jail                                     2\n",
       "                                                                 ..\n",
       "2017  CA - Adelanto Correctional Facility                        62\n",
       "      AZ - Eloy Federal Contract Facility                        13\n",
       "      TX - Houston Contract Detention Facility                    8\n",
       "      CA - San Diego Contract Detention Facility - CCA (otay)     6\n",
       "      CA - Yuba County Jail                                       6\n",
       "      TX - South Texas Detention Complex                          6\n",
       "      WA - Northwest Detention Center                             6\n",
       "      AZ - Cca, Florence Correctional Center                      5\n",
       "      CA - Theo Lacy Facility                                     4\n",
       "      LA - Jena/lasalle Detention Facility                        4\n",
       "      NV - Henderson Detention Center                             4\n",
       "      PA - York County Prison                                     4\n",
       "      TX - Port Isabel                                            4\n",
       "      AZ - Florence Service Processing Center                     3\n",
       "      GA - Stewart Detention Center                               3\n",
       "      AZ - Florence Staging Facility                              2\n",
       "      CA - Sacramento County Jail-rio Cosumnes Corr. Center       2\n",
       "      CA - Santa Ana City Jail                                    2\n",
       "      IL - Pulaski County Jail                                    2\n",
       "      NY - Buffalo (batavia) Service Processing Center            2\n",
       "      TX - El Paso Service Processing Center                      2\n",
       "      TX - Johnson County Law Enforcement Center                  2\n",
       "      AL - Etowah County Jail                                     1\n",
       "      IA - Marshall County Jail                                   1\n",
       "      LA - Pine Prairie Correctional Center                       1\n",
       "      MO - Christian County Jail                                  1\n",
       "      NJ - Hudson County Correctional Center                      1\n",
       "      NV - Nevada Southern Detention Center                       1\n",
       "      VA - Immigration Centers Of America Farmville               1\n",
       "      WI - Kenosha County Detention Center                        1\n",
       "Name: facility, Length: 227, dtype: int64"
      ]
     },
     "execution_count": 17,
     "metadata": {},
     "output_type": "execute_result"
    }
   ],
   "source": [
    "df[df['citizenship'] == 'Mexico'].groupby('year').facility.value_counts()"
   ]
  },
  {
   "cell_type": "code",
   "execution_count": 10,
   "metadata": {},
   "outputs": [
    {
     "data": {
      "text/html": [
       "<div>\n",
       "<style scoped>\n",
       "    .dataframe tbody tr th:only-of-type {\n",
       "        vertical-align: middle;\n",
       "    }\n",
       "\n",
       "    .dataframe tbody tr th {\n",
       "        vertical-align: top;\n",
       "    }\n",
       "\n",
       "    .dataframe thead th {\n",
       "        text-align: right;\n",
       "    }\n",
       "</style>\n",
       "<table border=\"1\" class=\"dataframe\">\n",
       "  <thead>\n",
       "    <tr style=\"text-align: right;\">\n",
       "      <th></th>\n",
       "      <th>index</th>\n",
       "      <th>count</th>\n",
       "    </tr>\n",
       "  </thead>\n",
       "  <tbody>\n",
       "    <tr>\n",
       "      <th>0</th>\n",
       "      <td>Mexico</td>\n",
       "      <td>2678</td>\n",
       "    </tr>\n",
       "    <tr>\n",
       "      <th>1</th>\n",
       "      <td>El Salvador</td>\n",
       "      <td>997</td>\n",
       "    </tr>\n",
       "    <tr>\n",
       "      <th>2</th>\n",
       "      <td>Honduras</td>\n",
       "      <td>664</td>\n",
       "    </tr>\n",
       "    <tr>\n",
       "      <th>3</th>\n",
       "      <td>Guatemala</td>\n",
       "      <td>444</td>\n",
       "    </tr>\n",
       "    <tr>\n",
       "      <th>4</th>\n",
       "      <td>Jamaica</td>\n",
       "      <td>264</td>\n",
       "    </tr>\n",
       "  </tbody>\n",
       "</table>\n",
       "</div>"
      ],
      "text/plain": [
       "         index  count\n",
       "0       Mexico   2678\n",
       "1  El Salvador    997\n",
       "2     Honduras    664\n",
       "3    Guatemala    444\n",
       "4      Jamaica    264"
      ]
     },
     "execution_count": 10,
     "metadata": {},
     "output_type": "execute_result"
    }
   ],
   "source": [
    "df1 = df['citizenship'].value_counts().reset_index(name='count')\n",
    "df1.head()"
   ]
  },
  {
   "cell_type": "code",
   "execution_count": 11,
   "metadata": {},
   "outputs": [
    {
     "data": {
      "text/plain": [
       "year  facility                                        \n",
       "2012  TX - Rolling Plains Detention Center                1\n",
       "2013  MD - Worcester County Jail                          3\n",
       "      PA - York County Prison                             2\n",
       "      CA - El Centro Service Processing Center            1\n",
       "      GA - Irwin County Detention Center                  1\n",
       "      LA - Jena/lasalle Detention Facility                1\n",
       "      MI - Calhoun County Correctional Center             1\n",
       "      PA - Pike County Correctional Facility              1\n",
       "2014  TX - Houston Contract Detention Facility            8\n",
       "      AL - Etowah County Jail                             3\n",
       "      MD - Howard County Detention Center                 3\n",
       "      MN - Sherburne County Jail                          3\n",
       "      VA - Immigration Centers Of America Farmville       3\n",
       "      CA - El Centro Service Processing Center            2\n",
       "      LA - Jena/lasalle Detention Facility                2\n",
       "      LA - South Louisiana Detention Center (basile)      2\n",
       "      MD - Worcester County Jail                          2\n",
       "      PA - York County Prison                             2\n",
       "      AZ - Eloy Federal Contract Facility                 1\n",
       "      GA - Irwin County Detention Center                  1\n",
       "      MI - Chippewa County Ssm                            1\n",
       "      NV - Washoe County Jail                             1\n",
       "      OH - Geauga County Jail                             1\n",
       "      PA - Pike County Correctional Facility              1\n",
       "      TX - South Texas Detention Complex                  1\n",
       "2015  NY - Buffalo (batavia) Service Processing Center    7\n",
       "      PA - York County Prison                             6\n",
       "      GA - Irwin County Detention Center                  3\n",
       "      TX - El Paso Service Processing Center              3\n",
       "      AZ - Eloy Federal Contract Facility                 2\n",
       "      GA - Stewart Detention Center                       2\n",
       "      LA - Jena/lasalle Detention Facility                2\n",
       "      TX - Houston Contract Detention Facility            2\n",
       "      AL - Etowah County Jail                             1\n",
       "      AZ - Florence Service Processing Center             1\n",
       "      CA - Adelanto Correctional Facility                 1\n",
       "      CA - Yuba County Jail                               1\n",
       "      NJ - Delaney Hall Detention Facility                1\n",
       "      NJ - Hudson County Correctional Center              1\n",
       "      NV - Henderson Detention Center                     1\n",
       "      PA - Pike County Correctional Facility              1\n",
       "      WI - Kenosha County Detention Center                1\n",
       "      WI - Kenosha County Pretrial Facility               1\n",
       "2016  NY - Buffalo (batavia) Service Processing Center    6\n",
       "      TX - Houston Contract Detention Facility            6\n",
       "      GA - Stewart Detention Center                       5\n",
       "      GA - Atlanta City Detention Center                  3\n",
       "      LA - Jena/lasalle Detention Facility                2\n",
       "      VA - Immigration Centers Of America Farmville       2\n",
       "      CA - Adelanto Correctional Facility                 1\n",
       "      IL - Mchenry County Correctional Facility           1\n",
       "      LA - Pine Prairie Correctional Center               1\n",
       "      MA - Suffolk County House Of Corrections            1\n",
       "      PA - Pike County Correctional Facility              1\n",
       "      PA - York County Prison                             1\n",
       "2017  AL - Etowah County Jail                             1\n",
       "      GA - Stewart Detention Center                       1\n",
       "      MN - Carver County Jail                             1\n",
       "Name: facility, dtype: int64"
      ]
     },
     "execution_count": 11,
     "metadata": {},
     "output_type": "execute_result"
    }
   ],
   "source": [
    "df[df['citizenship'] == 'Nigeria'].groupby('year').facility.value_counts()"
   ]
  },
  {
   "cell_type": "code",
   "execution_count": 12,
   "metadata": {},
   "outputs": [
    {
     "data": {
      "text/plain": [
       "111"
      ]
     },
     "execution_count": 12,
     "metadata": {},
     "output_type": "execute_result"
    }
   ],
   "source": [
    "len(df.facility.unique())"
   ]
  },
  {
   "cell_type": "code",
   "execution_count": null,
   "metadata": {},
   "outputs": [],
   "source": []
  }
 ],
 "metadata": {
  "kernelspec": {
   "display_name": "Python 3",
   "language": "python",
   "name": "python3"
  },
  "language_info": {
   "codemirror_mode": {
    "name": "ipython",
    "version": 3
   },
   "file_extension": ".py",
   "mimetype": "text/x-python",
   "name": "python",
   "nbconvert_exporter": "python",
   "pygments_lexer": "ipython3",
   "version": "3.6.5"
  }
 },
 "nbformat": 4,
 "nbformat_minor": 2
}
